{
 "cells": [
  {
   "cell_type": "code",
   "execution_count": 4,
   "id": "cb6deb7a-d58e-4204-b6b3-56b111ca70df",
   "metadata": {},
   "outputs": [
    {
     "name": "stdout",
     "output_type": "stream",
     "text": [
      "['ProductKey', 'Product Name', 'Brand', 'Color', 'Unit Cost USD', 'Unit Price USD', 'SubcategoryKey', 'Subcategory', 'CategoryKey', 'Category']\n",
      "['CustomerKey', 'Gender', 'Name', 'City', 'State Code', 'State', 'Zip Code', 'Country', 'Continent', 'Birthday']\n",
      "['Order Number', 'Line Item', 'Order Date', 'Delivery Date', 'CustomerKey', 'StoreKey', 'ProductKey', 'Quantity', 'Currency Code']\n",
      "['StoreKey', 'Country', 'State', 'Square Meters', 'Open Date']\n",
      "['Date', 'Currency', 'Exchange']\n"
     ]
    }
   ],
   "source": [
    "import pandas as pd\n",
    "\n",
    "# Load each file\n",
    "products_df = pd.read_csv(r\"C:\\Users\\mgag2\\OneDrive\\Documentos\\Data\\Global+Electronics+Retailer\\Products.csv\")\n",
    "customers_df = pd.read_csv(r\"C:\\Users\\mgag2\\OneDrive\\Documentos\\Data\\Global+Electronics+Retailer\\Customers.csv\", encoding='cp775')\n",
    "sales_df = pd.read_csv(r\"C:\\Users\\mgag2\\OneDrive\\Documentos\\Data\\Global+Electronics+Retailer\\Sales.csv\")\n",
    "stores_df = pd.read_csv(r\"C:\\Users\\mgag2\\OneDrive\\Documentos\\Data\\Global+Electronics+Retailer\\Stores.csv\")\n",
    "exchange_df = pd.read_csv(r\"C:\\Users\\mgag2\\OneDrive\\Documentos\\Data\\Global+Electronics+Retailer\\Exchange_Rates.csv\")\n",
    "\n",
    "# Check headers\n",
    "print(products_df.columns.tolist())\n",
    "print(customers_df.columns.tolist())\n",
    "print(sales_df.columns.tolist())\n",
    "print(stores_df.columns.tolist())\n",
    "print(exchange_df.columns.tolist())\n"
   ]
  },
  {
   "cell_type": "markdown",
   "id": "4de98300-5922-4fb4-a996-fd0d0fc07839",
   "metadata": {},
   "source": []
  },
  {
   "cell_type": "markdown",
   "id": "d708064d-446c-4a9e-841a-03cdcad4bed1",
   "metadata": {},
   "source": [
    "#### The customers file had some errors while being read. After checking the encoding, it needed to be opened using a different one. \n",
    "#### This was because some names contained characters not found in English."
   ]
  },
  {
   "cell_type": "code",
   "execution_count": 7,
   "id": "318ff897-97e1-47ae-ab63-4cac82cfc9c3",
   "metadata": {},
   "outputs": [
    {
     "name": "stdout",
     "output_type": "stream",
     "text": [
      "{'encoding': 'cp775', 'language': 'English', 'confidence': 0.9944}\n"
     ]
    }
   ],
   "source": [
    "from charset_normalizer import detect\n",
    "\n",
    "path = r\"C:\\Users\\mgag2\\OneDrive\\Documentos\\Data\\Global+Electronics+Retailer\\Customers.csv\"\n",
    "\n",
    "with open(path, 'rb') as file:\n",
    "    result = detect(file.read())\n",
    "    print(result)  # Check the detected encoding\n",
    "    encoding = result['encoding']\n",
    "\n"
   ]
  },
  {
   "cell_type": "markdown",
   "id": "116f8dd9-bb37-4c6a-a698-985a66c2b46f",
   "metadata": {},
   "source": []
  },
  {
   "cell_type": "code",
   "execution_count": 9,
   "id": "5a91a819-5f3a-4c26-9d63-e59a725567c2",
   "metadata": {},
   "outputs": [
    {
     "data": {
      "text/html": [
       "<div>\n",
       "<style scoped>\n",
       "    .dataframe tbody tr th:only-of-type {\n",
       "        vertical-align: middle;\n",
       "    }\n",
       "\n",
       "    .dataframe tbody tr th {\n",
       "        vertical-align: top;\n",
       "    }\n",
       "\n",
       "    .dataframe thead th {\n",
       "        text-align: right;\n",
       "    }\n",
       "</style>\n",
       "<table border=\"1\" class=\"dataframe\">\n",
       "  <thead>\n",
       "    <tr style=\"text-align: right;\">\n",
       "      <th></th>\n",
       "      <th>Column</th>\n",
       "      <th>Type</th>\n",
       "      <th>Count</th>\n",
       "      <th>Unique</th>\n",
       "      <th>Missing</th>\n",
       "      <th>Min</th>\n",
       "      <th>Max</th>\n",
       "      <th>Average</th>\n",
       "    </tr>\n",
       "  </thead>\n",
       "  <tbody>\n",
       "    <tr>\n",
       "      <th>0</th>\n",
       "      <td>Order Number</td>\n",
       "      <td>int64</td>\n",
       "      <td>62884</td>\n",
       "      <td>26326</td>\n",
       "      <td>0</td>\n",
       "      <td>366000.0</td>\n",
       "      <td>2243032.0</td>\n",
       "      <td>1.430905e+06</td>\n",
       "    </tr>\n",
       "    <tr>\n",
       "      <th>1</th>\n",
       "      <td>Line Item</td>\n",
       "      <td>int64</td>\n",
       "      <td>62884</td>\n",
       "      <td>7</td>\n",
       "      <td>0</td>\n",
       "      <td>1.0</td>\n",
       "      <td>7.0</td>\n",
       "      <td>2.164207e+00</td>\n",
       "    </tr>\n",
       "    <tr>\n",
       "      <th>2</th>\n",
       "      <td>Order Date</td>\n",
       "      <td>object</td>\n",
       "      <td>62884</td>\n",
       "      <td>1641</td>\n",
       "      <td>0</td>\n",
       "      <td>NaN</td>\n",
       "      <td>NaN</td>\n",
       "      <td>NaN</td>\n",
       "    </tr>\n",
       "    <tr>\n",
       "      <th>3</th>\n",
       "      <td>Delivery Date</td>\n",
       "      <td>object</td>\n",
       "      <td>13165</td>\n",
       "      <td>1492</td>\n",
       "      <td>49719</td>\n",
       "      <td>NaN</td>\n",
       "      <td>NaN</td>\n",
       "      <td>NaN</td>\n",
       "    </tr>\n",
       "    <tr>\n",
       "      <th>4</th>\n",
       "      <td>CustomerKey</td>\n",
       "      <td>int64</td>\n",
       "      <td>62884</td>\n",
       "      <td>11887</td>\n",
       "      <td>0</td>\n",
       "      <td>301.0</td>\n",
       "      <td>2099937.0</td>\n",
       "      <td>1.180797e+06</td>\n",
       "    </tr>\n",
       "    <tr>\n",
       "      <th>5</th>\n",
       "      <td>StoreKey</td>\n",
       "      <td>int64</td>\n",
       "      <td>62884</td>\n",
       "      <td>58</td>\n",
       "      <td>0</td>\n",
       "      <td>0.0</td>\n",
       "      <td>66.0</td>\n",
       "      <td>3.180214e+01</td>\n",
       "    </tr>\n",
       "    <tr>\n",
       "      <th>6</th>\n",
       "      <td>ProductKey</td>\n",
       "      <td>int64</td>\n",
       "      <td>62884</td>\n",
       "      <td>2492</td>\n",
       "      <td>0</td>\n",
       "      <td>1.0</td>\n",
       "      <td>2517.0</td>\n",
       "      <td>1.125859e+03</td>\n",
       "    </tr>\n",
       "    <tr>\n",
       "      <th>7</th>\n",
       "      <td>Quantity</td>\n",
       "      <td>int64</td>\n",
       "      <td>62884</td>\n",
       "      <td>10</td>\n",
       "      <td>0</td>\n",
       "      <td>1.0</td>\n",
       "      <td>10.0</td>\n",
       "      <td>3.144790e+00</td>\n",
       "    </tr>\n",
       "    <tr>\n",
       "      <th>8</th>\n",
       "      <td>Currency Code</td>\n",
       "      <td>object</td>\n",
       "      <td>62884</td>\n",
       "      <td>5</td>\n",
       "      <td>0</td>\n",
       "      <td>NaN</td>\n",
       "      <td>NaN</td>\n",
       "      <td>NaN</td>\n",
       "    </tr>\n",
       "  </tbody>\n",
       "</table>\n",
       "</div>"
      ],
      "text/plain": [
       "          Column    Type  Count  Unique  Missing       Min        Max  \\\n",
       "0   Order Number   int64  62884   26326        0  366000.0  2243032.0   \n",
       "1      Line Item   int64  62884       7        0       1.0        7.0   \n",
       "2     Order Date  object  62884    1641        0       NaN        NaN   \n",
       "3  Delivery Date  object  13165    1492    49719       NaN        NaN   \n",
       "4    CustomerKey   int64  62884   11887        0     301.0  2099937.0   \n",
       "5       StoreKey   int64  62884      58        0       0.0       66.0   \n",
       "6     ProductKey   int64  62884    2492        0       1.0     2517.0   \n",
       "7       Quantity   int64  62884      10        0       1.0       10.0   \n",
       "8  Currency Code  object  62884       5        0       NaN        NaN   \n",
       "\n",
       "        Average  \n",
       "0  1.430905e+06  \n",
       "1  2.164207e+00  \n",
       "2           NaN  \n",
       "3           NaN  \n",
       "4  1.180797e+06  \n",
       "5  3.180214e+01  \n",
       "6  1.125859e+03  \n",
       "7  3.144790e+00  \n",
       "8           NaN  "
      ]
     },
     "execution_count": 9,
     "metadata": {},
     "output_type": "execute_result"
    }
   ],
   "source": [
    "#Check data with custom function based on describe\n",
    "from custom_summary import custom_describe\n",
    "custom_describe(sales_df)"
   ]
  },
  {
   "cell_type": "markdown",
   "id": "8963209a-e9a0-4c6b-ab2d-217924e80171",
   "metadata": {},
   "source": []
  },
  {
   "cell_type": "code",
   "execution_count": 10,
   "id": "a3567846-a7dd-462f-8866-157f7a91363b",
   "metadata": {},
   "outputs": [
    {
     "name": "stdout",
     "output_type": "stream",
     "text": [
      "All products matched!\n"
     ]
    }
   ],
   "source": [
    "# Merge sales with products\n",
    "sales_with_products = pd.merge(sales_df, products_df, on=\"ProductKey\", how=\"left\")\n",
    "\n",
    "# Ensure all rows are matched\n",
    "num_unmatched = sales_with_products['ProductKey'].isna().sum()\n",
    "if num_unmatched == 0:\n",
    "    print(\"All products matched!\")\n",
    "else:\n",
    "    print(f\"There are {num_unmatched} unmatched products.\")"
   ]
  },
  {
   "cell_type": "code",
   "execution_count": 11,
   "id": "b8ef6e89-36f4-4ac6-9627-a68f8a702d51",
   "metadata": {},
   "outputs": [
    {
     "name": "stdout",
     "output_type": "stream",
     "text": [
      "All customers matched!\n"
     ]
    }
   ],
   "source": [
    "# Merge result with customers\n",
    "sales_with_customers = pd.merge(sales_with_products, customers_df, on=\"CustomerKey\", how=\"left\")\n",
    "\n",
    "# Ensure all rows are matched\n",
    "num_unmatched = sales_with_products['CustomerKey'].isna().sum()\n",
    "if num_unmatched == 0:\n",
    "    print(\"All customers matched!\")\n",
    "else:\n",
    "    print(f\"There are {num_unmatched} unmatched customers.\")"
   ]
  },
  {
   "cell_type": "code",
   "execution_count": 12,
   "id": "f719b990-34dd-4216-b24e-9544360400ab",
   "metadata": {},
   "outputs": [
    {
     "name": "stdout",
     "output_type": "stream",
     "text": [
      "All stores matched!\n"
     ]
    }
   ],
   "source": [
    "# Merge result with stores\n",
    "sales_with_stores = pd.merge(sales_with_customers, stores_df, on=\"StoreKey\", how=\"left\")\n",
    "\n",
    "# Ensure all rows are matched\n",
    "num_unmatched = sales_with_stores['StoreKey'].isna().sum()\n",
    "if num_unmatched == 0:\n",
    "    print(\"All stores matched!\")\n",
    "else:\n",
    "    print(f\"There are {num_unmatched} unmatched stores.\")"
   ]
  },
  {
   "cell_type": "code",
   "execution_count": 13,
   "id": "a8bec6b7-e5e7-43a3-9526-974b71d0274e",
   "metadata": {},
   "outputs": [
    {
     "name": "stdout",
     "output_type": "stream",
     "text": [
      "All exchange prices matched!\n"
     ]
    }
   ],
   "source": [
    "# Merge result with exchange\n",
    "final_sales_df = pd.merge(sales_with_stores, exchange_df, left_on=[\"Order Date\",\"Currency Code\"], right_on=[\"Date\",\"Currency\"], how=\"left\")\n",
    "\n",
    "# Ensure all rows are matched\n",
    "num_unmatched = final_sales_df['Exchange'].isna().sum()\n",
    "if num_unmatched == 0:\n",
    "    print(\"All exchange prices matched!\")\n",
    "else:\n",
    "    print(f\"There are {num_unmatched} unmatched exchange prices.\")"
   ]
  },
  {
   "cell_type": "code",
   "execution_count": 14,
   "id": "f0ab7b1a-7474-4679-a8e0-87a505da1a93",
   "metadata": {},
   "outputs": [
    {
     "name": "stdout",
     "output_type": "stream",
     "text": [
      "<class 'pandas.core.frame.DataFrame'>\n",
      "RangeIndex: 62884 entries, 0 to 62883\n",
      "Data columns (total 34 columns):\n",
      " #   Column          Non-Null Count  Dtype  \n",
      "---  ------          --------------  -----  \n",
      " 0   Order Number    62884 non-null  int64  \n",
      " 1   Line Item       62884 non-null  int64  \n",
      " 2   Order Date      62884 non-null  object \n",
      " 3   Delivery Date   13165 non-null  object \n",
      " 4   CustomerKey     62884 non-null  int64  \n",
      " 5   StoreKey        62884 non-null  int64  \n",
      " 6   ProductKey      62884 non-null  int64  \n",
      " 7   Quantity        62884 non-null  int64  \n",
      " 8   Currency Code   62884 non-null  object \n",
      " 9   Product Name    62884 non-null  object \n",
      " 10  Brand           62884 non-null  object \n",
      " 11  Color           62884 non-null  object \n",
      " 12  Unit Cost USD   62884 non-null  object \n",
      " 13  Unit Price USD  62884 non-null  object \n",
      " 14  SubcategoryKey  62884 non-null  int64  \n",
      " 15  Subcategory     62884 non-null  object \n",
      " 16  CategoryKey     62884 non-null  int64  \n",
      " 17  Category        62884 non-null  object \n",
      " 18  Gender          62884 non-null  object \n",
      " 19  Name            62884 non-null  object \n",
      " 20  City            62884 non-null  object \n",
      " 21  State Code      62854 non-null  object \n",
      " 22  State_x         62884 non-null  object \n",
      " 23  Zip Code        62884 non-null  object \n",
      " 24  Country_x       62884 non-null  object \n",
      " 25  Continent       62884 non-null  object \n",
      " 26  Birthday        62884 non-null  object \n",
      " 27  Country_y       62884 non-null  object \n",
      " 28  State_y         62884 non-null  object \n",
      " 29  Square Meters   49719 non-null  float64\n",
      " 30  Open Date       62884 non-null  object \n",
      " 31  Date            62884 non-null  object \n",
      " 32  Currency        62884 non-null  object \n",
      " 33  Exchange        62884 non-null  float64\n",
      "dtypes: float64(2), int64(8), object(24)\n",
      "memory usage: 16.3+ MB\n",
      "None\n"
     ]
    }
   ],
   "source": [
    "print(final_sales_df.info())"
   ]
  },
  {
   "cell_type": "markdown",
   "id": "38b49de2-e675-40aa-8924-d4fa38445f41",
   "metadata": {},
   "source": [
    "#### Some headers were renamed automatically. Let's use better names for them."
   ]
  },
  {
   "cell_type": "code",
   "execution_count": 16,
   "id": "3a0118e5-80c2-467c-9e2a-4ab70cf2cf3c",
   "metadata": {},
   "outputs": [
    {
     "name": "stdout",
     "output_type": "stream",
     "text": [
      "<class 'pandas.core.frame.DataFrame'>\n",
      "RangeIndex: 62884 entries, 0 to 62883\n",
      "Data columns (total 32 columns):\n",
      " #   Column            Non-Null Count  Dtype  \n",
      "---  ------            --------------  -----  \n",
      " 0   Order Number      62884 non-null  int64  \n",
      " 1   Line Item         62884 non-null  int64  \n",
      " 2   Order Date        62884 non-null  object \n",
      " 3   Delivery Date     13165 non-null  object \n",
      " 4   CustomerKey       62884 non-null  int64  \n",
      " 5   StoreKey          62884 non-null  int64  \n",
      " 6   ProductKey        62884 non-null  int64  \n",
      " 7   Quantity          62884 non-null  int64  \n",
      " 8   Currency Code     62884 non-null  object \n",
      " 9   Product Name      62884 non-null  object \n",
      " 10  Brand             62884 non-null  object \n",
      " 11  Color             62884 non-null  object \n",
      " 12  Unit Cost USD     62884 non-null  object \n",
      " 13  Unit Price USD    62884 non-null  object \n",
      " 14  SubcategoryKey    62884 non-null  int64  \n",
      " 15  Subcategory       62884 non-null  object \n",
      " 16  CategoryKey       62884 non-null  int64  \n",
      " 17  Category          62884 non-null  object \n",
      " 18  Gender            62884 non-null  object \n",
      " 19  Name              62884 non-null  object \n",
      " 20  City              62884 non-null  object \n",
      " 21  State Code        62854 non-null  object \n",
      " 22  Customer State    62884 non-null  object \n",
      " 23  Zip Code          62884 non-null  object \n",
      " 24  Customer Country  62884 non-null  object \n",
      " 25  Continent         62884 non-null  object \n",
      " 26  Birthday          62884 non-null  object \n",
      " 27  Store Country     62884 non-null  object \n",
      " 28  Store State       62884 non-null  object \n",
      " 29  Square Meters     49719 non-null  float64\n",
      " 30  Open Date         62884 non-null  object \n",
      " 31  Exchange Rate     62884 non-null  float64\n",
      "dtypes: float64(2), int64(8), object(22)\n",
      "memory usage: 15.4+ MB\n",
      "None\n"
     ]
    }
   ],
   "source": [
    "# Rename specific columns\n",
    "final_sales_df = final_sales_df.rename(columns={\"State_x\": \"Customer State\",\"Country_x\": \"Customer Country\",\n",
    "    \"State_y\": \"Store State\", \"Country_y\": \"Store Country\", \"Exchange\": \"Exchange Rate\"\n",
    "})\n",
    "\n",
    "# Eliminate redundant columns\n",
    "final_sales_df = final_sales_df.drop(columns=['Date', 'Currency'])\n",
    "\n",
    "print(final_sales_df.info())"
   ]
  },
  {
   "cell_type": "markdown",
   "id": "70c11583-8f7a-4aa6-bccd-d6c3643f587e",
   "metadata": {},
   "source": [
    "#### Unit Cost USD and Unit Price USD are not float type"
   ]
  },
  {
   "cell_type": "code",
   "execution_count": 31,
   "id": "0d9a22ed-1888-4437-ae5e-ed8b0b8ceea9",
   "metadata": {},
   "outputs": [],
   "source": [
    "# Remove the '$' symbol and convert the columns to numeric values\n",
    "final_sales_df['Unit Price USD'] = final_sales_df['Unit Price USD'].replace({'$': '', ',': ''}, regex=True).astype(float)\n",
    "final_sales_df['Unit Cost USD'] = final_sales_df['Unit Cost USD'].replace({'$': '', ',': ''}, regex=True).astype(float)"
   ]
  },
  {
   "cell_type": "code",
   "execution_count": 37,
   "id": "818fc576-cb0e-4bbe-ab69-a73adac16e10",
   "metadata": {},
   "outputs": [
    {
     "name": "stdout",
     "output_type": "stream",
     "text": [
      "   Unit Price USD  Unit Cost USD\n",
      "0           68.00          31.27\n",
      "1          427.00         141.47\n",
      "2          665.94         220.64\n",
      "3          322.00         148.08\n",
      "4          326.00         166.20\n"
     ]
    }
   ],
   "source": [
    "print(final_sales_df[['Unit Price USD', 'Unit Cost USD']].head())"
   ]
  },
  {
   "cell_type": "markdown",
   "id": "86cd80e5-a82c-4d5d-b041-8b747bb918fc",
   "metadata": {},
   "source": [
    "#### Date columns also have an incorrect data type "
   ]
  },
  {
   "cell_type": "code",
   "execution_count": 53,
   "id": "cd8f6271-65d5-4502-97b3-9006927803a6",
   "metadata": {},
   "outputs": [],
   "source": [
    "# Ensure is datetime\n",
    "final_sales_df['Order Date'] = pd.to_datetime(final_sales_df['Order Date'], errors='coerce')\n",
    "final_sales_df['Delivery Date'] = pd.to_datetime(final_sales_df['Delivery Date'], errors='coerce')\n",
    "final_sales_df['Open Date'] = pd.to_datetime(final_sales_df['Open Date'], errors='coerce')\n",
    "final_sales_df['Birthday'] = pd.to_datetime(final_sales_df['Birthday'], errors='coerce')"
   ]
  },
  {
   "cell_type": "code",
   "execution_count": 55,
   "id": "163d9090-2043-4541-912a-8d4959821896",
   "metadata": {},
   "outputs": [
    {
     "name": "stdout",
     "output_type": "stream",
     "text": [
      "<class 'pandas.core.frame.DataFrame'>\n",
      "RangeIndex: 62884 entries, 0 to 62883\n",
      "Data columns (total 32 columns):\n",
      " #   Column            Non-Null Count  Dtype         \n",
      "---  ------            --------------  -----         \n",
      " 0   Order Number      62884 non-null  int64         \n",
      " 1   Line Item         62884 non-null  int64         \n",
      " 2   Order Date        62884 non-null  datetime64[ns]\n",
      " 3   Delivery Date     13165 non-null  datetime64[ns]\n",
      " 4   CustomerKey       62884 non-null  int64         \n",
      " 5   StoreKey          62884 non-null  int64         \n",
      " 6   ProductKey        62884 non-null  int64         \n",
      " 7   Quantity          62884 non-null  int64         \n",
      " 8   Currency Code     62884 non-null  object        \n",
      " 9   Product Name      62884 non-null  object        \n",
      " 10  Brand             62884 non-null  object        \n",
      " 11  Color             62884 non-null  object        \n",
      " 12  Unit Cost USD     62884 non-null  float64       \n",
      " 13  Unit Price USD    62884 non-null  float64       \n",
      " 14  SubcategoryKey    62884 non-null  int64         \n",
      " 15  Subcategory       62884 non-null  object        \n",
      " 16  CategoryKey       62884 non-null  int64         \n",
      " 17  Category          62884 non-null  object        \n",
      " 18  Gender            62884 non-null  object        \n",
      " 19  Name              62884 non-null  object        \n",
      " 20  City              62884 non-null  object        \n",
      " 21  State Code        62854 non-null  object        \n",
      " 22  Customer State    62884 non-null  object        \n",
      " 23  Zip Code          62884 non-null  object        \n",
      " 24  Customer Country  62884 non-null  object        \n",
      " 25  Continent         62884 non-null  object        \n",
      " 26  Birthday          62884 non-null  datetime64[ns]\n",
      " 27  Store Country     62884 non-null  object        \n",
      " 28  Store State       62884 non-null  object        \n",
      " 29  Square Meters     49719 non-null  float64       \n",
      " 30  Open Date         62884 non-null  datetime64[ns]\n",
      " 31  Exchange Rate     62884 non-null  float64       \n",
      "dtypes: datetime64[ns](4), float64(4), int64(8), object(16)\n",
      "memory usage: 15.4+ MB\n",
      "None\n"
     ]
    }
   ],
   "source": [
    "print(final_sales_df.info())"
   ]
  },
  {
   "cell_type": "code",
   "execution_count": 57,
   "id": "c322f727-abbb-4ab5-a838-527bb8a2c772",
   "metadata": {},
   "outputs": [
    {
     "name": "stdout",
     "output_type": "stream",
     "text": [
      "Stored 'final_sales_df' (DataFrame)\n"
     ]
    }
   ],
   "source": [
    "%store final_sales_df"
   ]
  }
 ],
 "metadata": {
  "kernelspec": {
   "display_name": "Python 3 (ipykernel)",
   "language": "python",
   "name": "python3"
  },
  "language_info": {
   "codemirror_mode": {
    "name": "ipython",
    "version": 3
   },
   "file_extension": ".py",
   "mimetype": "text/x-python",
   "name": "python",
   "nbconvert_exporter": "python",
   "pygments_lexer": "ipython3",
   "version": "3.12.3"
  }
 },
 "nbformat": 4,
 "nbformat_minor": 5
}
